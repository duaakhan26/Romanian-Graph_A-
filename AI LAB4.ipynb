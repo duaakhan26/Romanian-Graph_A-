{
 "cells": [
  {
   "cell_type": "markdown",
   "id": "0e9b7ede",
   "metadata": {},
   "source": [
    "2021143"
   ]
  },
  {
   "cell_type": "markdown",
   "id": "509e2d22",
   "metadata": {},
   "source": [
    "duaa khan"
   ]
  },
  {
   "cell_type": "markdown",
   "id": "59548b11",
   "metadata": {},
   "source": [
    "lab4"
   ]
  },
  {
   "cell_type": "code",
   "execution_count": 19,
   "id": "ff59fce4",
   "metadata": {},
   "outputs": [],
   "source": [
    "import time"
   ]
  },
  {
   "cell_type": "code",
   "execution_count": 30,
   "id": "15d18093",
   "metadata": {},
   "outputs": [],
   "source": [
    "graph = {\n",
    "            'arad': [('sibiu', 140), ('timisoara', 118), ('zerind', 75)],\n",
    "            'sibiu': [('arad', 140), ('oradea', 151), ('fagaras', 99), ('rimnicu', 80)],\n",
    "            'timisoara': [('arad', 118), ('lugoj', 111)],\n",
    "            'zerind': [('arad', 75), ('oradea', 71)],\n",
    "            'oradea': [('zerind', 71), ('sibiu', 151)],\n",
    "            'fagaras': [('sibiu', 99), ('bucharest', 211)],\n",
    "            'rimnicu': [('sibiu', 80), ('craiova', 146), ('pitesti', 97)],\n",
    "            'lugoj': [('timisoara', 111), ('mehadia', 70)],\n",
    "            'bucharest': [('giurgiu', 90), ('urziceni', 85), ('pitesti', 101), ('fagaras', 211)],\n",
    "            'craiova': [('dobreta', 120), ('pitesti', 138), ('rimnicu', 146)],\n",
    "            'pitesti': [('rimnicu', 97), ('craiova', 138), ('bucharest', 101)],\n",
    "            'mehadia': [('dobreta', 75), ('lugoj', 70)],\n",
    "            'giurgiu': [('bucharest', 90)],\n",
    "            'urziceni': [('bucharest', 85), ('hirsova', 98), ('vaslui', 142)],\n",
    "            'dobreta': [('mehadia', 75), ('craiova', 120)],\n",
    "            'hirsova' : [('eforie', 86), ('urziceni', 98)],\n",
    "            'vaslui' : [('urziceni', 142), ('lasi', 92)],\n",
    "            'eforie' : [('hirsova', 86)],\n",
    "            'lasi': [('neamt', 87), ('vaslui', 92)],\n",
    "            'neamt': [('lasi', 87)]\n",
    "        }\n"
   ]
  },
  {
   "cell_type": "code",
   "execution_count": 97,
   "id": "3335e34a",
   "metadata": {},
   "outputs": [],
   "source": [
    "a = time.time()"
   ]
  },
  {
   "cell_type": "code",
   "execution_count": 98,
   "id": "e56fdc0d",
   "metadata": {},
   "outputs": [],
   "source": [
    "class Graph:\n",
    "    def __init__(self, graph):\n",
    "        self.graph = graph\n",
    "        \n",
    "    def get_neighbours(self, v):\n",
    "        return self.graph[v]\n",
    "    \n",
    "    def h(self, n):\n",
    "        H = {\n",
    "                'arad': 366,\n",
    "                'bucharest': 0,\n",
    "                'craiova': 160,\n",
    "                'dobreta': 242,\n",
    "                'eforie': 161,\n",
    "                'fagaras': 178,\n",
    "                'giurgiu': 77,\n",
    "                'hirsova': 151,\n",
    "                'lasi': 226,\n",
    "                'lugoj': 244,\n",
    "                'mehadia': 241,\n",
    "                'neamt': 234,\n",
    "                'oradea': 380,\n",
    "                'pitesti': 98,\n",
    "                'rimnicu': 193,\n",
    "                'sibiu': 253,\n",
    "                'timisoara': 329,\n",
    "                'urziceni': 80,\n",
    "                'vaslui': 199,\n",
    "                'zerind': 374\n",
    "        }\n",
    "        return H[n]\n",
    "    \n",
    "    def a_star_algo(self, start, goal):\n",
    "        open_list = set([start])\n",
    "        closed_list = set([])\n",
    "        \n",
    "        g = {}        #contains distances fro start node to current node, adds precious h distances \n",
    "        g[start] = 0\n",
    "        \n",
    "        parents = {}  #adjacency nodes\n",
    "        parents[start] = start\n",
    "        \n",
    "        while len(open_list) > 0:\n",
    "            n = None\n",
    "            \n",
    "            for v in open_list:\n",
    "                if n == None or g[v] + self.h(v) < g[n] + self.h(n):\n",
    "                    n = v;\n",
    "                    \n",
    "            if n == None:\n",
    "                print('path does not exist')\n",
    "                return None\n",
    "            \n",
    "            if n == goal:\n",
    "                reconst_path = []\n",
    "                \n",
    "                while parents[n] != n:\n",
    "                    reconst_path.append(n)\n",
    "                    n = parents[n]\n",
    "                    \n",
    "                reconst_path.append(start)\n",
    "                reconst_path.reverse()\n",
    "                \n",
    "                print('path found: {}'.format(reconst_path))\n",
    "                return reconst_path\n",
    "            \n",
    "            for(m, weight) in self.get_neighbours(n):\n",
    "                if m not in open_list and m not in closed_list:\n",
    "                    open_list.add(m)\n",
    "                    parents[m] = n\n",
    "                    g[m] = g[n] + weight \n",
    "                    #if the selected node isnt in either lists, we explore it and add it to open list as a parent\n",
    "                    #the new weight of the mapp will be the previous weight of the explored graph + the h weight of this new node m\n",
    "                    \n",
    "                else:\n",
    "                    if g[m] > g[n] + weight:\n",
    "                        g[m] = g[n] + weight\n",
    "                        parents[m] = n\n",
    "                        \n",
    "                        if m in closed_list:\n",
    "                            closed_list.remove(m)\n",
    "                            open_list.add(m)\n",
    "                            \n",
    "            open_list.remove(n)\n",
    "            closed_list.add(n)\n",
    "            \n",
    "        print('path does not exist')\n",
    "        return None\n",
    "                    \n",
    "    "
   ]
  },
  {
   "cell_type": "code",
   "execution_count": 99,
   "id": "a266fb15",
   "metadata": {},
   "outputs": [
    {
     "name": "stdout",
     "output_type": "stream",
     "text": [
      "3.709144115447998\n"
     ]
    }
   ],
   "source": [
    "a_star_time = time.time() - a\n",
    "print(a_star_time)"
   ]
  },
  {
   "cell_type": "code",
   "execution_count": 44,
   "id": "50fe2ede",
   "metadata": {},
   "outputs": [
    {
     "name": "stdout",
     "output_type": "stream",
     "text": [
      "path found: ['arad', 'sibiu', 'rimnicu', 'pitesti', 'bucharest', 'urziceni', 'vaslui', 'lasi', 'neamt']\n"
     ]
    },
    {
     "data": {
      "text/plain": [
       "['arad',\n",
       " 'sibiu',\n",
       " 'rimnicu',\n",
       " 'pitesti',\n",
       " 'bucharest',\n",
       " 'urziceni',\n",
       " 'vaslui',\n",
       " 'lasi',\n",
       " 'neamt']"
      ]
     },
     "execution_count": 44,
     "metadata": {},
     "output_type": "execute_result"
    }
   ],
   "source": [
    "g = Graph(graph)\n",
    "g.a_star_algo('arad', 'neamt')\n"
   ]
  },
  {
   "cell_type": "markdown",
   "id": "359b4697",
   "metadata": {},
   "source": [
    "UCS"
   ]
  },
  {
   "cell_type": "code",
   "execution_count": 38,
   "id": "a1a2e946",
   "metadata": {},
   "outputs": [],
   "source": [
    "li = []\n",
    "def myy(li):\n",
    "    z= dict()\n",
    "    for i in li:\n",
    "        z[i[0]] = i[1]\n",
    "    return z"
   ]
  },
  {
   "cell_type": "code",
   "execution_count": 39,
   "id": "2db0c283",
   "metadata": {},
   "outputs": [],
   "source": [
    "def my(x):\n",
    "    return x[1]"
   ]
  },
  {
   "cell_type": "code",
   "execution_count": 94,
   "id": "e6a04bbc",
   "metadata": {},
   "outputs": [],
   "source": [
    "b = time.time()"
   ]
  },
  {
   "cell_type": "code",
   "execution_count": 95,
   "id": "3fff4331",
   "metadata": {},
   "outputs": [
    {
     "name": "stdout",
     "output_type": "stream",
     "text": [
      "POP:  ('arad', 0)\n",
      "POP:  ('sibiu', 140)\n",
      "*********** [('zerind', 75), ('timisoara', 118)]\n",
      "POP:  ('zerind', 75)\n",
      "*********** [('rimnicu', 80), ('fagaras', 99), ('timisoara', 118), ('oradea', 151)]\n",
      "*********** [('rimnicu', 80), ('fagaras', 99), ('timisoara', 118), ('oradea', 151)]\n",
      "POP:  ('rimnicu', 80)\n",
      "*********** [('fagaras', 99), ('timisoara', 118), ('oradea', 151)]\n",
      "POP:  ('fagaras', 99)\n",
      "*********** [('pitesti', 97), ('timisoara', 118), ('craiova', 146), ('oradea', 151)]\n",
      "POP:  ('pitesti', 97)\n",
      "*********** [('timisoara', 118), ('craiova', 146), ('oradea', 151), ('bucharest', 211)]\n",
      "*********** [('timisoara', 118), ('craiova', 146), ('oradea', 151), ('bucharest', 211)]\n",
      "*********** [('timisoara', 118), ('craiova', 146), ('oradea', 151), ('bucharest', 211)]\n",
      "POP:  ('timisoara', 118)\n",
      "*********** [('craiova', 146), ('oradea', 151), ('bucharest', 211)]\n",
      "POP:  ('craiova', 146)\n",
      "*********** [('lugoj', 111), ('dobreta', 120), ('oradea', 151), ('bucharest', 211)]\n",
      "*********** [('lugoj', 111), ('dobreta', 120), ('oradea', 151), ('bucharest', 211)]\n",
      "POP:  ('lugoj', 111)\n",
      "*********** [('dobreta', 120), ('oradea', 151), ('bucharest', 211)]\n",
      "POP:  ('dobreta', 120)\n",
      "*********** [('mehadia', 70), ('oradea', 151), ('bucharest', 211)]\n",
      "*********** [('mehadia', 70), ('oradea', 151), ('bucharest', 211)]\n",
      "POP:  ('mehadia', 70)\n",
      "*********** [('oradea', 151), ('bucharest', 211)]\n",
      "*********** [('oradea', 151), ('bucharest', 211)]\n",
      "POP:  ('oradea', 151)\n",
      "*********** [('bucharest', 211)]\n",
      "*********** [('bucharest', 211)]\n",
      "POP:  ('bucharest', 211)\n",
      "*********** [('urziceni', 85), ('giurgiu', 90)]\n",
      "*********** [('urziceni', 85), ('giurgiu', 90)]\n",
      "POP:  ('urziceni', 85)\n",
      "*********** [('giurgiu', 90)]\n",
      "POP:  ('giurgiu', 90)\n",
      "*********** [('hirsova', 98), ('vaslui', 142)]\n",
      "POP:  ('hirsova', 98)\n",
      "*********** [('eforie', 86), ('vaslui', 142)]\n",
      "POP:  ('eforie', 86)\n",
      "*********** [('vaslui', 142)]\n",
      "POP:  ('vaslui', 142)\n",
      "*********** []\n",
      "POP:  ('lasi', 92)\n",
      "*********** [('neamt', 87)]\n",
      "POP:  ('neamt', 87)\n",
      "+++++++++ ['arad', 'sibiu', 'zerind', 'rimnicu', 'fagaras', 'pitesti', 'timisoara', 'craiova', 'lugoj', 'dobreta', 'mehadia', 'oradea', 'bucharest', 'urziceni', 'giurgiu', 'hirsova', 'eforie', 'vaslui', 'lasi', 'neamt']\n"
     ]
    }
   ],
   "source": [
    "def UCS(goal):\n",
    "\n",
    "    q = []\n",
    "    q.append(('arad',0))\n",
    "    explored = []\n",
    "\n",
    "    while len(q)> 0:\n",
    "\n",
    "        #print(q)\n",
    "        node = q.pop(0)\n",
    "\n",
    "\n",
    "        print('POP: ',node)\n",
    "        #print(q)\n",
    "\n",
    "        explored.append(node[0])\n",
    "\n",
    "        if node[0] == goal:\n",
    "            print('+++++++++',explored)\n",
    "            break\n",
    "\n",
    "\n",
    "        child = graph.get(node[0])\n",
    "        #print(child)\n",
    "\n",
    "        for i in child:\n",
    "            \n",
    "            if i[0] not in explored and i[0] not in myy(q):\n",
    "                cost = node[1] + i[1]\n",
    "                new = (i[0],cost)\n",
    "                #print(node[1],'+',i[1],'=',cost)\n",
    "                #print('old: ',i,'new->',new)\n",
    "                #print()\n",
    "                q.append(i)\n",
    "            else:\n",
    "                q = sorted(q,key=my)\n",
    "                print('***********',q)\n",
    "UCS('neamt')"
   ]
  },
  {
   "cell_type": "code",
   "execution_count": 96,
   "id": "7dc1ab25",
   "metadata": {},
   "outputs": [
    {
     "name": "stdout",
     "output_type": "stream",
     "text": [
      "6.444409608840942\n"
     ]
    }
   ],
   "source": [
    "ucs_time = time.time() - b\n",
    "print(ucs_time)"
   ]
  },
  {
   "cell_type": "code",
   "execution_count": null,
   "id": "d8eedce9",
   "metadata": {},
   "outputs": [],
   "source": []
  },
  {
   "cell_type": "markdown",
   "id": "db53a4e3",
   "metadata": {},
   "source": [
    "BFS"
   ]
  },
  {
   "cell_type": "code",
   "execution_count": 91,
   "id": "aed00fad",
   "metadata": {},
   "outputs": [],
   "source": [
    "c = time.time()"
   ]
  },
  {
   "cell_type": "code",
   "execution_count": 92,
   "id": "5bd46eac",
   "metadata": {},
   "outputs": [],
   "source": [
    "def BFS(self, s):\n",
    " \n",
    "        visited = [False] * (max(self.graph) + 1)\n",
    " \n",
    "        queue = []\n",
    "\n",
    "        queue.append(s)\n",
    "        visited[s] = True\n",
    " \n",
    "        while queue:\n",
    "\n",
    "            s = queue.pop(0)\n",
    "            print(s, end=\" \")\n",
    " \n",
    "\n",
    "            for i in self.graph[s]:\n",
    "                if visited[i] == False:\n",
    "                    queue.append(i)\n",
    "                    visited[i] = True"
   ]
  },
  {
   "cell_type": "code",
   "execution_count": 93,
   "id": "967ba0a2",
   "metadata": {},
   "outputs": [
    {
     "name": "stdout",
     "output_type": "stream",
     "text": [
      "5.181895017623901\n"
     ]
    }
   ],
   "source": [
    "bfs_time = time.time() - c\n",
    "print(bfs_time)"
   ]
  },
  {
   "cell_type": "markdown",
   "id": "3e453e73",
   "metadata": {},
   "source": [
    "DFS"
   ]
  },
  {
   "cell_type": "code",
   "execution_count": 88,
   "id": "d74e1baf",
   "metadata": {},
   "outputs": [],
   "source": [
    "d = time.time()\n"
   ]
  },
  {
   "cell_type": "code",
   "execution_count": 89,
   "id": "1cab9458",
   "metadata": {},
   "outputs": [],
   "source": [
    "def DFS(self):\n",
    "        # create a set to store all visited vertices\n",
    "        visited = set()\n",
    "    # call the recursive helper function to print DFS traversal starting from all\n",
    "    # vertices one by one\n",
    "        for vertex in graph:\n",
    "            if vertex not in visited:\n",
    "                self.DFSUtil(vertex, visited)"
   ]
  },
  {
   "cell_type": "code",
   "execution_count": 90,
   "id": "7ae6193f",
   "metadata": {},
   "outputs": [
    {
     "name": "stdout",
     "output_type": "stream",
     "text": [
      "5.091774225234985\n"
     ]
    }
   ],
   "source": [
    "dfs_time = time.time() - d\n",
    "print(dfs_time)"
   ]
  },
  {
   "cell_type": "code",
   "execution_count": 73,
   "id": "9edd1c8e",
   "metadata": {},
   "outputs": [],
   "source": [
    "import matplotlib.pyplot as plt"
   ]
  },
  {
   "cell_type": "code",
   "execution_count": 101,
   "id": "0e96adf4",
   "metadata": {},
   "outputs": [
    {
     "data": {
      "image/png": "[encoded data removed]",
      "text/plain": [
       "<Figure size 640x480 with 1 Axes>"
      ]
     },
     "metadata": {},
     "output_type": "display_data"
    }
   ],
   "source": [
    "x = ['A*', 'UCS', 'BFS', 'DFS']\n",
    "\n",
    "y = [a_star_time, ucs_time, bfs_time, dfs_time]\n",
    "\n",
    "plt.bar(x, y)\n",
    "plt.title('Search Algorithms Time Complexity')\n",
    "\n",
    "plt.xlabel('Search Algorithm')\n",
    "plt.ylabel('Time Complexity')\n",
    "plt.ylim(0, 10)\n",
    "plt.show()"
   ]
  },
  {
   "cell_type": "code",
   "execution_count": null,
   "id": "978b8fc9",
   "metadata": {},
   "outputs": [],
   "source": []
  }
 ],
 "metadata": {
  "kernelspec": {
   "display_name": "Python 3 (ipykernel)",
   "language": "python",
   "name": "python3"
  },
  "language_info": {
   "codemirror_mode": {
    "name": "ipython",
    "version": 3
   },
   "file_extension": ".py",
   "mimetype": "text/x-python",
   "name": "python",
   "nbconvert_exporter": "python",
   "pygments_lexer": "ipython3",
   "version": "3.9.13"
  }
 },
 "nbformat": 4,
 "nbformat_minor": 5
}
